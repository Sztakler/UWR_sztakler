{
 "metadata": {
  "language_info": {
   "codemirror_mode": {
    "name": "ipython",
    "version": 3
   },
   "file_extension": ".py",
   "mimetype": "text/x-python",
   "name": "python",
   "nbconvert_exporter": "python",
   "pygments_lexer": "ipython3",
   "version": "3.8.5-final"
  },
  "orig_nbformat": 2,
  "kernelspec": {
   "name": "python38564bit3033e3005df6477fb2ff3010f8096022",
   "display_name": "Python 3.8.5 64-bit",
   "language": "python"
  }
 },
 "nbformat": 4,
 "nbformat_minor": 2,
 "cells": [
  {
   "cell_type": "code",
   "execution_count": 58,
   "metadata": {},
   "outputs": [],
   "source": [
    "import math\n",
    "import numpy as np"
   ]
  },
  {
   "cell_type": "code",
   "execution_count": 59,
   "metadata": {},
   "outputs": [],
   "source": [
    "T = [0, 2, 4, 6, 8, 10]\n",
    "Ht = [1, 1.6, 1.4, 0.6, 0.2, 0.8]"
   ]
  },
  {
   "cell_type": "code",
   "execution_count": 60,
   "metadata": {},
   "outputs": [],
   "source": [
    "def g0(t):\n",
    "    return 1\n",
    "\n",
    "def g1(t):\n",
    "    return math.sin(2 * math.pi * t / 12)\n",
    "\n",
    "def g2(t):\n",
    "    return math.cos(2 * math.pi * t / 12)\n",
    "\n",
    "g = [g0, g1, g2]"
   ]
  },
  {
   "cell_type": "code",
   "execution_count": 61,
   "metadata": {},
   "outputs": [],
   "source": [
    "def dotProductG(index1, index2):\n",
    "    result = 0\n",
    "    for t in T:\n",
    "        result += g[index1](t) * g[index2](t)\n",
    "    return result\n",
    "\n",
    "def dotProductY(index):\n",
    "    result = 0\n",
    "    for i in range(len(T)):\n",
    "        result += g[index](T[i]) * Ht[i]\n",
    "    return result"
   ]
  },
  {
   "cell_type": "code",
   "execution_count": 62,
   "metadata": {},
   "outputs": [],
   "source": [
    "gArray = [[dotProductG(j, i) for j in range(3)] for i in range(3)]\n",
    "yArray = [dotProductY(i) for i in range(3)]"
   ]
  },
  {
   "cell_type": "code",
   "execution_count": 63,
   "metadata": {},
   "outputs": [],
   "source": [
    "hArray = gArray[:]\n",
    "hArray[0] = yArray\n",
    "\n",
    "a1Array = gArray[:]\n",
    "a1Array[1] = yArray\n",
    "\n",
    "a2Array = gArray[:]\n",
    "a2Array[2] = yArray\n",
    "\n",
    "gNpArray = np.array(gArray)\n",
    "yNpArray = np.array(yArray)\n",
    "hNpArray = np.array(hArray)\n",
    "a1NpArray = np.array(a1Array)\n",
    "a2NpArray = np.array(a2Array)"
   ]
  },
  {
   "cell_type": "code",
   "execution_count": 64,
   "metadata": {},
   "outputs": [
    {
     "output_type": "stream",
     "name": "stdout",
     "text": [
      "54.00000000000001\n50.4\n31.176914536239778\n14.400000000000011\n"
     ]
    }
   ],
   "source": [
    "W = np.linalg.det(gNpArray)\n",
    "Wh = np.linalg.det(hNpArray)\n",
    "Wa1 = np.linalg.det(aNpArray)\n",
    "Wa2 = np.linalg.det(bNpArray)\n",
    "print(W)\n",
    "print(Wh)\n",
    "print(Wa)\n",
    "print(Wa2)"
   ]
  },
  {
   "cell_type": "code",
   "execution_count": 65,
   "metadata": {},
   "outputs": [
    {
     "output_type": "stream",
     "name": "stdout",
     "text": [
      "h = 0.9333333333333332\na1 = 0.5773502691896254\na2 = 0.26666666666666683\n"
     ]
    }
   ],
   "source": [
    "h = Wh / W\n",
    "a1 = Wa1 / W\n",
    "a2 = Wa2 / W\n",
    "\n",
    "print(f\"h = {h}\\na1 = {a1}\\na2 = {a2}\")"
   ]
  }
 ]
}